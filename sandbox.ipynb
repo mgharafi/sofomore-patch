{
 "cells": [
  {
   "cell_type": "code",
   "execution_count": 45,
   "metadata": {},
   "outputs": [],
   "source": [
    "import numpy as np\n",
    "import matplotlib.pyplot as plt\n",
    "from moarchiving import BiobjectiveNondominatedSortedList as NDA\n",
    "import cma\n",
    "from comocma import Sofomore, get_cmas, FitFun\n",
    "from importlib import reload\n",
    "from pathlib import Path\n",
    "import rebase\n",
    "from itertools import cycle\n",
    "import bidict\n",
    "\n",
    "reload(rebase)\n",
    "from rebase import SofomorePatch, kernelBuilder, Multistart, RestartSquencer"
   ]
  },
  {
   "cell_type": "code",
   "execution_count": 46,
   "metadata": {},
   "outputs": [],
   "source": [
    "other_attributes = {\"incumbent\": property(lambda self: self.mean)}\n",
    "Kernel = kernelBuilder(cma.CMAEvolutionStrategy, other_attributes=other_attributes)"
   ]
  },
  {
   "cell_type": "code",
   "execution_count": 74,
   "metadata": {},
   "outputs": [],
   "source": [
    "dim = 2\n",
    "sigma0 = 2.0\n",
    "budget = 600  # * int(4 + 3 * np.log(dim))\n",
    "\n",
    "cma_options = [cma.CMAOptions(), cma.CMAOptions()]\n",
    "for irestart, cma_option in enumerate(cma_options, start=1):\n",
    "    cma_option[\"verbose\"] = -1\n",
    "    cma_option[\"maxiter\"] = 30 * irestart\n",
    "sofomore_options = {\n",
    "    \"reference_point\": [16, 16],  # For hypervolume computation only not for the UHVI\n",
    "    \"opts\": {\"verb_filename\": \"sofomore_out_1\"},\n",
    "}\n",
    "\n",
    "# -----------------------------------------------------------\n",
    "num_of_starts = 1\n",
    "num_of_restarts = [3, 3]\n",
    "# num_of_restarts = [59]\n",
    "start_options = [  # list[Restarts][number_of_starts][number_of_kernels]\n",
    "    [\n",
    "        [\n",
    "            {\n",
    "                \"x0\": x,\n",
    "                \"sigma0\": sigma0 * (0.2) ** irestart,\n",
    "                \"inopts\": cma_option,\n",
    "            }\n",
    "            for k, x in enumerate(np.random.rand(num_kernels, dim))\n",
    "        ]\n",
    "        for i in range(num_of_starts)\n",
    "    ]\n",
    "    for irestart, (num_kernels, cma_option) in enumerate(\n",
    "        zip(num_of_restarts, cma_options)\n",
    "    )\n",
    "]\n",
    "# --------------------------------------------------------------------\n",
    "run = RestartSquencer(start_options, Kernel, budget, sofomore_options)"
   ]
  },
  {
   "cell_type": "code",
   "execution_count": 75,
   "metadata": {},
   "outputs": [],
   "source": [
    "fun = FitFun(\n",
    "    lambda x: np.sqrt(cma.ff.sphere(x)),\n",
    "    lambda x: np.sqrt(cma.ff.sphere(x - np.asarray([16, 0]))),\n",
    ")"
   ]
  },
  {
   "cell_type": "code",
   "execution_count": 63,
   "metadata": {},
   "outputs": [
    {
     "name": "stdout",
     "output_type": "stream",
     "text": [
      "cb = 482\n",
      "p = 67\n",
      "cb = 414\n",
      "p = 67\n",
      "cb = 346\n",
      "p = 67\n",
      "cb = 278\n",
      "p = 67\n",
      "cb = 210\n",
      "p = 67\n",
      "cb = 142\n",
      "p = 67\n",
      "cb = 74\n",
      "p = 67\n",
      "cb = 6\n",
      "p = 73\n",
      "used=550\n"
     ]
    }
   ],
   "source": [
    "n = 8\n",
    "b = 550\n",
    "p = (b - n) // n\n",
    "cb = b\n",
    "used = 0\n",
    "for i in range(n):\n",
    "    cb -= p + 1\n",
    "    print(f\"{cb = }\")\n",
    "\n",
    "    if cb < (p + 1):\n",
    "        p += cb\n",
    "\n",
    "    used += p + 1\n",
    "    print(f\"{p = }\")\n",
    "\n",
    "print(f\"{used=}\")"
   ]
  },
  {
   "cell_type": "code",
   "execution_count": 76,
   "metadata": {},
   "outputs": [
    {
     "name": "stdout",
     "output_type": "stream",
     "text": [
      "Restart 0\n",
      "199, 199, 199\n",
      "Iterat #Fevals   Hypervolume   axis ratios   sigmas   min&max stds\n",
      "                                  (median)  (median)    (median)\n",
      "    1    600 1.354832228142391e+01 1.0e+00 4.45e+00  3e+00  7e+00\n",
      "    2   1200 4.661086213669302e+01 1.8e+00 7.11e+00  4e+00  1e+01\n",
      "    3   1800 7.460164177481599e+01 2.6e+00 7.06e+00  2e+00  5e+00\n",
      "   30  18000 9.599999743469834e+01 2.3e+00 1.94e+03  5e-04  9e-04\n",
      "Restart 1\n",
      "199, 199, 199, 49, 49, 49, 49, 49, 49, 49, 49, 49, 49, 49, 49\n",
      "   90  54003 1.199999990787902e+02 2.3e+00 3.33e+00  8e-09  3e-08\n"
     ]
    }
   ],
   "source": [
    "old_hypervolume = 0\n",
    "tols = []\n",
    "hist_len = 3\n",
    "tol_thresh = 1e-3\n",
    "hypervolume_threshold = False\n",
    "run.archive = bidict.bidict()\n",
    "hv_max = 0\n",
    "\n",
    "for irestart, moes in enumerate(run):\n",
    "    print(f\"Restart {irestart}\")\n",
    "    sub_archive = bidict.bidict()\n",
    "    flag = True\n",
    "\n",
    "    print(*[k.popsize for k in moes], sep=\", \")\n",
    "    while not moes.stop():\n",
    "        # if flag:\n",
    "        #     print(f\"Budget = {len(solutions)}\")\n",
    "        #     print(f\"number of active kernels = {len(moes._active_indices)}\")\n",
    "        #     flag = False\n",
    "        solutions = moes.ask(\"all\")\n",
    "        objective_values = [fun(solution) for solution in solutions]\n",
    "        moes.tell(solutions, objective_values)\n",
    "        moes.logger.add()\n",
    "        moes.disp()\n",
    "\n",
    "        # ---------------------------------------------------------------------------\n",
    "        try:\n",
    "            sub_archive.update(\n",
    "                {\n",
    "                    tuple(np.asarray(s).tolist()): tuple(np.asarray(f).tolist())\n",
    "                    for s, f in zip(solutions, objective_values)\n",
    "                }\n",
    "            )\n",
    "        except:\n",
    "            pass\n",
    "        # print(archive)\n",
    "\n",
    "        EPF = [mo.objective_values for mo in moes if mo is not None]\n",
    "\n",
    "        if len(EPF) == 0:\n",
    "            continue\n",
    "\n",
    "        current_hypervolume = NDA(EPF, moes.reference_point).hypervolume\n",
    "        if current_hypervolume > hv_max:\n",
    "            hv_max = current_hypervolume\n",
    "        tol = float(abs(current_hypervolume - old_hypervolume) / hv_max)\n",
    "        old_hypervolume = current_hypervolume\n",
    "        tols.append(tol)\n",
    "\n",
    "        hypervolume_threshold = np.all((np.asarray(tols) < tol_thresh)[-hist_len:])\n",
    "\n",
    "        # for kernel in moes:\n",
    "        #     kernel._stopdict._addstop(\"hvtol\", hypervolume_threshold, tol)\n",
    "\n",
    "    for fval in moes.archive:\n",
    "        value = tuple(np.asarray(fval).tolist())\n",
    "\n",
    "        if value in sub_archive.inverse:\n",
    "            run.archive.update({sub_archive.inverse[value]: value})\n",
    "\n",
    "    tol_thresh *= (1 / len(moes)) * (1e-5)"
   ]
  },
  {
   "cell_type": "code",
   "execution_count": 30,
   "metadata": {},
   "outputs": [
    {
     "data": {
      "text/plain": [
       "(28.959817797511384, -0.028299006213052705)"
      ]
     },
     "execution_count": 30,
     "metadata": {},
     "output_type": "execute_result"
    }
   ],
   "source": [
    "# f, ax = plt.subplots()\n",
    "\n",
    "# X = np.asarray(archive.values())\n",
    "\n",
    "# # ax.scatter(X, Y)\n",
    "# print(X[:10])\n",
    "\n",
    "# k = dict(archive).keys()\n",
    "\n",
    "mid = tuple(moes.archive[len(moes.archive) // 2])\n",
    "archive.inverse[mid]"
   ]
  },
  {
   "cell_type": "code",
   "execution_count": 278,
   "metadata": {},
   "outputs": [],
   "source": [
    "from itertools import cycle\n",
    "\n",
    "f, ax = plt.subplots()\n",
    "ax.minorticks_on()\n",
    "ax.grid(True)\n",
    "ax.grid(which=\"minor\", alpha=0.5)\n",
    "ax.set_xlim(-5, 65)\n",
    "ax.set_ylim(-5, 65)\n",
    "ax.set_aspect(1)\n",
    "\n",
    "visited = []\n",
    "marker = cycle((\",\", \"+\", \".\", \"o\"))\n",
    "\n",
    "ymin_val, ymax_val = ax.get_ylim()\n",
    "xmin_val, xmax_val = ax.get_xlim()\n",
    "\n",
    "ratio_x = lambda x: (x - xmin_val) / (xmax_val - xmin_val)  # noqa: E731\n",
    "ratio_y = lambda x: (x - ymin_val) / (ymax_val - ymin_val)  # noqa: E731\n",
    "\n",
    "numR = len(num_of_restarts)\n",
    "restarts = [[] for _ in range(numR)]\n",
    "\n",
    "for kernel in moes[:]:\n",
    "    restarts[kernel.irestart - 1].append(kernel)\n",
    "\n",
    "for irestart, restart in enumerate(restarts):\n",
    "    for kernel in restart:\n",
    "        color = None\n",
    "\n",
    "        if kernel not in visited:\n",
    "            mrk = next(marker)\n",
    "            rx, ry = kernel.reference_point\n",
    "            # print(rx, ry)\n",
    "            sc = ax.scatter(\n",
    "                [rx],\n",
    "                [ry],\n",
    "                marker=\"+\",\n",
    "            )\n",
    "            color = sc.get_facecolor()\n",
    "            ax.annotate(\n",
    "                f\"ref: ({rx:.1f}, {ry:.1f})\",\n",
    "                (rx, ry),\n",
    "                textcoords=\"offset points\",\n",
    "                xytext=(10, 10),\n",
    "                ha=\"left\",\n",
    "                fontsize=7,\n",
    "            )\n",
    "            ax.axvline(\n",
    "                x=rx,\n",
    "                ymax=ratio_y(ry),\n",
    "                color=color,\n",
    "                alpha=0.8,\n",
    "                ls=\"--\",\n",
    "                lw=1.0,\n",
    "            )\n",
    "            ax.axhline(\n",
    "                y=ry,\n",
    "                xmax=ratio_x(rx),\n",
    "                color=color,\n",
    "                alpha=0.8,\n",
    "                ls=\"--\",\n",
    "                lw=1.0,\n",
    "            )\n",
    "\n",
    "        for subkernel in kernel.group_:\n",
    "            if subkernel not in visited:\n",
    "                visited.append(subkernel)\n",
    "                x, y = subkernel.objective_values\n",
    "                sc = ax.scatter(\n",
    "                    [x],\n",
    "                    [y],\n",
    "                    color=color,\n",
    "                    marker=\"x\",\n",
    "                    s=(numR - irestart) ** 2 * 25,\n",
    "                    lw=0.5 * (numR - irestart),\n",
    "                )"
   ]
  },
  {
   "cell_type": "code",
   "execution_count": 14,
   "metadata": {},
   "outputs": [
    {
     "data": {
      "text/plain": [
       "ItemsView(<cma.evolution_strategy._CMASolutionDict_functional object at 0x000001C2000C6C10>)"
      ]
     },
     "execution_count": 14,
     "metadata": {},
     "output_type": "execute_result"
    }
   ],
   "source": [
    "X, Y = np.asarray(moes.archive).T\n",
    "# f, ax = plt.subplots()\n",
    "# ax.scatter(X, Y)"
   ]
  },
  {
   "cell_type": "code",
   "execution_count": 2,
   "metadata": {},
   "outputs": [],
   "source": [
    "from bidict import bidict"
   ]
  },
  {
   "cell_type": "code",
   "execution_count": 73,
   "metadata": {},
   "outputs": [],
   "source": [
    "color = None\n",
    "restarts = run.restarts_kernels\n",
    "marker = cycle((\",\", \"+\", \".\", \"o\"))\n",
    "f, ax = plt.subplots()\n",
    "ax.minorticks_on()\n",
    "ax.grid(True)\n",
    "ax.grid(which=\"minor\", alpha=0.5)\n",
    "ax.set_xlim(-5, 18)\n",
    "ax.set_ylim(-5, 18)\n",
    "ax.set_aspect(1)\n",
    "\n",
    "ymin_val, ymax_val = ax.get_ylim()\n",
    "xmin_val, xmax_val = ax.get_xlim()\n",
    "\n",
    "ratio_x = lambda x: (x - xmin_val) / (xmax_val - xmin_val)  # noqa: E731\n",
    "ratio_y = lambda x: (x - ymin_val) / (ymax_val - ymin_val)  # noqa: E731\n",
    "\n",
    "for irestart, restart in enumerate(restarts):\n",
    "    mrk = next(marker)\n",
    "    for ref_group in restart:\n",
    "        rx, ry = ref_group[0][0].reference_point\n",
    "\n",
    "        sc = ax.scatter(\n",
    "            [rx],\n",
    "            [ry],\n",
    "            marker=\"+\",\n",
    "        )\n",
    "        color = sc.get_facecolor()\n",
    "\n",
    "        # X, Y = np.asarray(NDA(moes.archive, reference_point=[rx, ry])).T\n",
    "        # ax.scatter(X, Y, color=color, marker=\"+\", lw=0.5, alpha=0.1)\n",
    "        # middle = len(X) // 2\n",
    "\n",
    "        # ax.scatter([X[middle]], [Y[middle]], color=\"black\", s=100, marker=\"o\")\n",
    "        ax.annotate(\n",
    "            f\"ref: ({rx:.3f}, {ry:.3f})\",\n",
    "            (rx, ry),\n",
    "            textcoords=\"offset points\",\n",
    "            xytext=(10, 10),\n",
    "            ha=\"left\",\n",
    "            fontsize=7,\n",
    "        )\n",
    "        ax.axvline(\n",
    "            x=rx,\n",
    "            ymax=ratio_y(ry),\n",
    "            color=color,\n",
    "            alpha=0.8,\n",
    "            ls=\"--\",\n",
    "            lw=1.0,\n",
    "        )\n",
    "        ax.axhline(\n",
    "            y=ry,\n",
    "            xmax=ratio_x(rx),\n",
    "            color=color,\n",
    "            alpha=0.8,\n",
    "            ls=\"--\",\n",
    "            lw=1.0,\n",
    "        )\n",
    "        for start in ref_group:\n",
    "            for kernel in start:\n",
    "                x0, y0 = fun(kernel.x0)\n",
    "                x, y = kernel.objective_values\n",
    "                ax.scatter([x0], [y0], color=\"black\")\n",
    "                sc = ax.scatter(\n",
    "                    [x],\n",
    "                    [y],\n",
    "                    color=color,\n",
    "                    marker=mrk,\n",
    "                    s=80,\n",
    "                    # marker=\"x\",\n",
    "                    # s=(numR - irestart) ** 2 * 25,\n",
    "                    # lw=0.5 * (numR - irestart),\n",
    "                )"
   ]
  },
  {
   "cell_type": "code",
   "execution_count": 44,
   "metadata": {},
   "outputs": [
    {
     "data": {
      "text/plain": [
       "[{'hvtol': 3.4186872930075617e-05},\n",
       " {'hvtol': 3.4186872930075617e-05},\n",
       " {'hvtol': 3.4186872930075617e-05},\n",
       " {'maxiter': 40},\n",
       " {'maxiter': 40},\n",
       " {'maxiter': 40},\n",
       " {'maxiter': 40},\n",
       " {'maxiter': 40},\n",
       " {'maxiter': 40},\n",
       " {'maxiter': 40},\n",
       " {'maxiter': 40},\n",
       " {'maxiter': 40},\n",
       " {'maxiter': 40},\n",
       " {'maxiter': 40},\n",
       " {'maxiter': 40}]"
      ]
     },
     "execution_count": 44,
     "metadata": {},
     "output_type": "execute_result"
    }
   ],
   "source": [
    "[k.stop() for k in moes]"
   ]
  },
  {
   "cell_type": "code",
   "execution_count": 72,
   "metadata": {},
   "outputs": [],
   "source": [
    "data_hv_1 = moes.logger.load(\"sofomore_out_1/hypervolume.dat\")\n",
    "\n",
    "iterations, fevals, [hv] = data_hv_1\n",
    "\n",
    "\n",
    "# f, ax = plt.subplots()\n",
    "max_hv = max(hv)\n",
    "ax.plot(iterations, max_hv - np.asarray(hv))\n",
    "ax.set_xlabel(\"Iterations\")\n",
    "ax.set_ylabel(\"Hypervolume\")\n",
    "ax.grid(True)\n",
    "ax.set_yscale(\"log\")"
   ]
  },
  {
   "cell_type": "code",
   "execution_count": 9,
   "metadata": {},
   "outputs": [],
   "source": [
    "%matplotlib qt"
   ]
  },
  {
   "cell_type": "code",
   "execution_count": null,
   "metadata": {},
   "outputs": [],
   "source": [
    "max_budget = 1000  # evaluations\n",
    "max_parallel_budget = 100  # parallel evaluations\n",
    "min_popsize = 10  # population size\n",
    "\n",
    "max_number_of_kernels = max_parallel_budget // min_popsize\n",
    "min_number_of_kernels = 1\n",
    "\n",
    "number_of_restarts = 2\n",
    "\n",
    "\n",
    "def restart_counter(previous, num_kernels, max_number_of_kernels):\n",
    "    previous = sum([count_ for _, count_, _, _ in previous])\n",
    "    n = int((previous + 1) * num_kernels)\n",
    "\n",
    "    if n > max_number_of_kernels:\n",
    "        m = int(max_number_of_kernels // (previous + 1))\n",
    "        print(m)\n",
    "        kernel_num = int((previous + 1) * m)\n",
    "        print(kernel_num)\n",
    "        popsize = max_parallel_budget // kernel_num\n",
    "        return (m, kernel_num, popsize, popsize * kernel_num)\n",
    "    else:\n",
    "        popsize = max_parallel_budget // num_kernels\n",
    "        return (num_kernels, n, popsize, popsize * n)\n",
    "\n",
    "\n",
    "restarts = [(1, 1, max_parallel_budget, max_parallel_budget)]\n",
    "\n",
    "while number_of_restarts > 0:\n",
    "    number_of_restarts -= 1\n",
    "    num_kernels = restart_counter(\n",
    "        restarts, max_number_of_kernels, max_number_of_kernels\n",
    "    )\n",
    "    restarts += [num_kernels]\n",
    "\n",
    "restarts"
   ]
  },
  {
   "cell_type": "code",
   "execution_count": null,
   "metadata": {},
   "outputs": [],
   "source": [
    "from functools import reduce\n",
    "from operator import mul\n",
    "\n",
    "\n",
    "def mult(x):\n",
    "    if x == []:\n",
    "        return 1\n",
    "    return reduce(mul, x)"
   ]
  },
  {
   "cell_type": "code",
   "execution_count": null,
   "metadata": {},
   "outputs": [],
   "source": [
    "max_parallel_budget = 1000  # parallel evaluations\n",
    "min_popsize = 10  # population size\n",
    "\n",
    "target_psize = 100\n",
    "\n",
    "max_psize = max_parallel_budget // min_popsize\n",
    "min_psize = 1\n",
    "\n",
    "print(max_psize, min_psize)\n",
    "\n",
    "k = [1, 6, 7]\n",
    "lam = [10, 2, 3]\n",
    "\n",
    "\n",
    "def restart_config(k, lam):\n",
    "    psize = [sum([mult(k[i : j + 1]) for i in range(j + 1)]) for j in range(len(k))]\n",
    "    cum_psize = np.cumsum(psize).tolist()\n",
    "    evals = [l * p for l, p in zip(lam, psize)]\n",
    "\n",
    "    return [\n",
    "        psize,\n",
    "        cum_psize,\n",
    "        evals,\n",
    "    ]"
   ]
  },
  {
   "cell_type": "code",
   "execution_count": null,
   "metadata": {},
   "outputs": [],
   "source": [
    "k = [1, 5, 10]\n",
    "lam = [10, 2, 3]\n",
    "restart_config(k, lam)"
   ]
  },
  {
   "cell_type": "markdown",
   "metadata": {},
   "source": [
    "### Tree structure for the restarts\n",
    "\n",
    "> - The root is the first run then each parent node should produce its value + 1 child nodes  \n",
    "> - Restart configs will be produced by going down the tree\n",
    "\n",
    "#### Constraints:\n",
    "1. Minimum number of kernels at the end $p$\n",
    "2. Number of parallel evaluations $n$\n",
    "3. Minimum population size $\\lambda_{\\text{min}}$\n",
    "\n",
    "We can combine 2 and 3 by defining n as multiple of $\\lambda_{\\text{min}}$\n",
    "and the popsize as a multiple of $\\lambda_{\\text{min}}$ between 1 and $\\lfloor\\frac{n}{\\lambda_{\\text{min}}}\\rfloor$"
   ]
  },
  {
   "cell_type": "code",
   "execution_count": null,
   "metadata": {},
   "outputs": [],
   "source": [
    "target = 20\n",
    "\n",
    "runs = [[100], [10] * 5 * 2, [8] * 1 * 12]\n",
    "bud = [sum(run) for run in runs]\n",
    "bud"
   ]
  },
  {
   "cell_type": "markdown",
   "metadata": {},
   "source": [
    "### Restart Module\n",
    "\n",
    "- Budget management\n",
    "- Configuration\n",
    "- Run optimization"
   ]
  },
  {
   "cell_type": "code",
   "execution_count": null,
   "metadata": {},
   "outputs": [],
   "source": [
    "user_input = dict(\n",
    "    max_parallel_budget=1000,\n",
    "    default_popsize=10,\n",
    "    number_of_kernels=10,\n",
    "    max_number_of_restarts=4,\n",
    "    max_number_of_iterations=100,\n",
    ")\n",
    "\n",
    "user_input"
   ]
  },
  {
   "cell_type": "code",
   "execution_count": null,
   "metadata": {},
   "outputs": [],
   "source": [
    "refs = np.linspace(0, 1, 4)[1:-1].tolist()\n",
    "refs_groups = [refs.copy()]\n",
    "\n",
    "refinement_number = [2, 10, 5][::]\n",
    "\n",
    "for i in range(len(refinement_number)):\n",
    "    _refs = [0, *refs, 1]\n",
    "    j = refinement_number[i]\n",
    "    current_refs = [\n",
    "        np.linspace(r1, r2, j - np.random.randint(0, int(j * 0.9)) + 2)[1:-1].tolist()\n",
    "        for r1, r2 in zip(_refs[:-1], _refs[1:])\n",
    "    ]\n",
    "    refs = np.sort(np.hstack((refs, *current_refs)))\n",
    "    refs_groups.append(current_refs.copy())\n",
    "\n",
    "len(refs)"
   ]
  },
  {
   "cell_type": "code",
   "execution_count": null,
   "metadata": {},
   "outputs": [],
   "source": [
    "def flatten(sequence):\n",
    "    flattened = []\n",
    "    for item in sequence:\n",
    "        if isinstance(item, list):\n",
    "            flattened.extend(flatten(item))  # Recursive call if item is a list\n",
    "        else:\n",
    "            flattened.append(item)  # Append if item is a float or other non-list type\n",
    "    return flattened"
   ]
  },
  {
   "cell_type": "code",
   "execution_count": null,
   "metadata": {},
   "outputs": [],
   "source": [
    "%matplotlib qt"
   ]
  },
  {
   "cell_type": "code",
   "execution_count": null,
   "metadata": {},
   "outputs": [],
   "source": [
    "f, ax = plt.subplots()\n",
    "\n",
    "for i, refs in enumerate(refs_groups):\n",
    "    # refs = np.asarray(refs).flatten()\n",
    "    refs = flatten(refs)\n",
    "    sc = ax.scatter(refs, i * np.ones(len(refs)), label=f\"Group {i + 1}\", marker=\"x\")\n",
    "    color = sc.get_facecolor()\n",
    "    for coord in refs:\n",
    "        ax.axvline(x=coord, color=color, alpha=0.3, lw=0.8)\n",
    "\n",
    "ax.legend()\n",
    "ax.set_xlabel(\"Reference point\")\n",
    "ax.grid()"
   ]
  },
  {
   "cell_type": "code",
   "execution_count": null,
   "metadata": {},
   "outputs": [],
   "source": [
    "def moving_average(x, w):\n",
    "    return np.convolve(x, np.ones(w), \"valid\") / w"
   ]
  },
  {
   "cell_type": "code",
   "execution_count": null,
   "metadata": {},
   "outputs": [],
   "source": [
    "points = flatten(refs_groups)"
   ]
  },
  {
   "cell_type": "code",
   "execution_count": null,
   "metadata": {},
   "outputs": [],
   "source": [
    "diff = np.diff(sorted(points))\n",
    "\n",
    "diff_ = moving_average(diff, 20)\n",
    "plt.plot(np.linspace(0, 1, len(diff_)), diff_)\n",
    "plt.grid()"
   ]
  },
  {
   "cell_type": "code",
   "execution_count": null,
   "metadata": {},
   "outputs": [],
   "source": [
    "f, ax = plt.subplots()\n",
    "ax.boxplot(diff_)\n",
    "ax.grid()"
   ]
  },
  {
   "cell_type": "code",
   "execution_count": null,
   "metadata": {},
   "outputs": [],
   "source": [
    "%matplotlib qt"
   ]
  },
  {
   "cell_type": "code",
   "execution_count": null,
   "metadata": {},
   "outputs": [],
   "source": [
    "# 1, 2, 3, 5\n",
    "# lamb: 1, 100\n",
    "# 1: 100 * 1 = 100 * 1\n",
    "# 2:  25 * (1 + 1) * 2 = 25 * 2 * 2\n",
    "# 3:   5 * (1 + 4 + 1 ) * 3 = 5 * 6 * 3\n",
    "# 5:     * (1 + 4 + 18 + 1) * 5 =   * 24 * 5"
   ]
  },
  {
   "cell_type": "code",
   "execution_count": null,
   "metadata": {},
   "outputs": [],
   "source": [
    "p = 100  # minimum size of the Pareto set\n",
    "c = 50  # the parallel budget expressed in factor of the default popsize\n",
    "z = p // c  # the minimum number of restarts"
   ]
  },
  {
   "cell_type": "code",
   "execution_count": null,
   "metadata": {},
   "outputs": [],
   "source": [
    "k = []\n",
    "n = []\n",
    "\n",
    "k_ = 70\n",
    "n_ = c // k_\n",
    "\n",
    "if n_ == 0:\n",
    "    k.append([k_ // z] * z)\n",
    "    n.append([c // k__ for k__ in k[-1]])\n",
    "\n",
    "k, n"
   ]
  },
  {
   "cell_type": "code",
   "execution_count": null,
   "metadata": {},
   "outputs": [],
   "source": [
    "# k1 + k2 + k3 + k1k2k3 + k3k2 + k1k2 = 70\n",
    "# k1 = 1 => 2k2 (1 + k3) + k3 = 70\n",
    "# k2 = 20 => k3(1 + 2k2) = 70 - 2k2\n",
    "# k3 = (70 - 2k2) / (1 + 2k2)\n",
    "# dividers of 70: 1, 2, 5, 7, 14, 35, 70\n",
    "k1 = 2\n",
    "R = 70\n",
    "k2 = [i for i in range(1, R // (k1 + 1))]\n",
    "d = [(k1, i, (R - (k1 + 1) * i) // ((k1 + 1) * i + 1)) for i in k2]\n",
    "d = [(k1, i, j, (k1 + 1) * i, ((k1 + 1) * i + k1 + 1) * j) for _, i, j in d]\n",
    "d = [(k1, i, j, m, n, 1 + m + n) for _, i, j, m, n in d]\n",
    "d = sorted(d, key=lambda x: x[-1], reverse=True)\n",
    "# d = [(1, i, j, j + i * j) for i, j in d]\n",
    "# d = [(i, j, m) for i, j, m in d if m <= 50]\n",
    "# x, y, z = max(d, key=lambda x: x[2])\n",
    "# u = [i + j + i * j for i, j in d]\n",
    "\n",
    "# v = [(i, j) for i, j in d if i + j + i * j >= max(u)]\n",
    "\n",
    "# x, y, z,\n",
    "d"
   ]
  },
  {
   "cell_type": "code",
   "execution_count": null,
   "metadata": {},
   "outputs": [],
   "source": [
    "k1 = range(1, 6)\n",
    "k2 = range(1, 11)\n",
    "# k3 = range(1, 5)\n",
    "# k4 = range(1, 5)\n",
    "\n",
    "\n",
    "def pi(k):\n",
    "    m = []\n",
    "    m_ = []\n",
    "    correction = []\n",
    "    for i, s in enumerate(k):\n",
    "        runk = (sum(m) + 1) * s\n",
    "        runk_ = (sum(m_) + 1) * s\n",
    "        correction += [0]\n",
    "\n",
    "        while runk_ / runk < 0.95 and correction[-1] + s < 10:\n",
    "            runk_ = (sum(m_) + 1) * (s + correction[-1])\n",
    "            correction[-1] += 1\n",
    "\n",
    "        runk_ = runk_ - np.random.randint(max(1, int(runk_ * 0.4)))\n",
    "        m += [runk]\n",
    "        m_ += [runk_]\n",
    "    return m, m_, correction\n",
    "    # return k1 + (k1 + 1) * k2 + ((k1 + 1) * (k2 + 1) + 1) * k3\n",
    "\n",
    "\n",
    "p = []\n",
    "\n",
    "for u in k1:\n",
    "    for v in k2:\n",
    "        # for w in k3:\n",
    "        #     for z in k4:\n",
    "        perfect_runs, runs, corr = pi([u, v])  # , w, z])\n",
    "        factors = [r // k for r, k in zip(runs, (u, v))]  # , w, z))]\n",
    "        budget = lcm(*runs)\n",
    "        popsize_factor = [budget // r for r in runs]\n",
    "        p += [\n",
    "            (\n",
    "                u,\n",
    "                v,\n",
    "                # w,\n",
    "                # z,\n",
    "                perfect_runs,\n",
    "                runs,\n",
    "                corr,\n",
    "                #    budget,\n",
    "                #    popsize_factor,\n",
    "                # factors,\n",
    "                sum(runs),\n",
    "                sum(perfect_runs),\n",
    "                f\"{100 * sum(runs) / sum(perfect_runs):.2f}%\",\n",
    "            )\n",
    "        ]"
   ]
  },
  {
   "cell_type": "code",
   "execution_count": null,
   "metadata": {},
   "outputs": [],
   "source": [
    "sorted(p, key=lambda x: x[-2], reverse=True)\n",
    "# jlist = list(set([m[-1] for m in p]))\n",
    "# f, ax = plt.subplots()\n",
    "# ax.scatter(jlist, np.zeros_like(jlist), marker=\"x\")\n",
    "# f.show()"
   ]
  },
  {
   "cell_type": "code",
   "execution_count": null,
   "metadata": {},
   "outputs": [],
   "source": [
    "from math import lcm"
   ]
  },
  {
   "cell_type": "code",
   "execution_count": null,
   "metadata": {},
   "outputs": [],
   "source": [
    "%matplotlib qt"
   ]
  },
  {
   "cell_type": "code",
   "execution_count": null,
   "metadata": {},
   "outputs": [],
   "source": [
    "r = np.stack([a, b], axis=-1)\n",
    "q = np.stack([c, d], axis=-1)\n",
    "\n",
    "N = np.stack([r, q], axis=-2)"
   ]
  },
  {
   "cell_type": "markdown",
   "metadata": {},
   "source": [
    "# i and j : grid indices\n",
    "# alpha : u_wind in degrees\n",
    "# beta : u_current in degrees\n",
    "\n",
    "a = 10 * np.ones((3, 3))  # sin(alpha), a_tij\n",
    "b = 100 * np.ones((3, 3))  # sin(beta), b_tij\n",
    "c = 1000 * np.ones((3, 3))  # cos(alpha), c_tij\n",
    "d = 10000 * np.ones((3, 3))  # cos(beta), d_tij\n",
    "\n",
    "r = np.stack([a, b], axis=-1)\n",
    "q = np.stack([c, d], axis=-1)\n",
    "N = np.stack([r, q], axis=-2)  # (a_tij, b_tij, c_tij, d_tij)\n",
    "\n",
    "M = np.arange(9).reshape(3, 3, 1) * np.ones((3, 3, 2))  # (x_ij, y_ij)\n",
    "U = np.einsum(\"ijk,ijlk->ijk\", M, N)\n",
    "\n",
    "#                       sin(alpha_t_ij)  cos(alpha_t_ij)\n",
    "# (x_t_i_j, y_t_i_j)\n",
    "#                       sin(beta_t_ij)  cos(beta_t_ij)\n",
    "#\n",
    "\n",
    "#\n",
    "#                   a_tij   c_tij\n",
    "# (x_tij, y_tij)\n",
    "#                   b_tij   d_tij\n",
    "#\n",
    "#\n",
    "#\n",
    "# u_k = x_tij1k * a_tijlk\n",
    "#\n",
    "# u_k = x_tij1k * a_tijlk + y_tij1k * b_tijlk\n",
    "#\n",
    "# delta_t = .1\n",
    "\n",
    "# x = 0.05 * v_wind\n",
    "# y = v_current\n",
    "\n",
    "with np.printoptions(precision=0, suppress=True):\n",
    "    # print(M)\n",
    "    # print(N)\n",
    "    print(U)\n",
    "    # print(u)\n",
    "    # print(v)\n"
   ]
  }
 ],
 "metadata": {
  "kernelspec": {
   "display_name": "code-base",
   "language": "python",
   "name": "python3"
  },
  "language_info": {
   "codemirror_mode": {
    "name": "ipython",
    "version": 3
   },
   "file_extension": ".py",
   "mimetype": "text/x-python",
   "name": "python",
   "nbconvert_exporter": "python",
   "pygments_lexer": "ipython3",
   "version": "3.13.0"
  }
 },
 "nbformat": 4,
 "nbformat_minor": 2
}
